{
 "cells": [
  {
   "cell_type": "code",
   "execution_count": null,
   "id": "31d17de4-ed22-4fb8-8867-033501a92e62",
   "metadata": {},
   "outputs": [],
   "source": [
    "import numpy as np\n",
    "import pandas as pd\n",
    "from glob import glob\n",
    "from tqdm import tqdm\n",
    "import json\n",
    "import pickle\n",
    "from collections import defaultdict\n",
    "import dill"
   ]
  },
  {
   "cell_type": "markdown",
   "id": "4cdb4fab-8747-4760-b400-bd03f50ac442",
   "metadata": {},
   "source": [
    "# Get co-occurrences from raw Adzuna data"
   ]
  },
  {
   "cell_type": "code",
   "execution_count": null,
   "id": "d58f90ee-2968-4981-b179-52c421a0c2c9",
   "metadata": {},
   "outputs": [],
   "source": [
    "def find_cooccurrence(years, months):\n",
    "    # create an set for unique ids\n",
    "    ids_set = set()\n",
    "    # initiate co-occurrrence matrix\n",
    "    co_occurrence_counts = defaultdict(lambda: defaultdict(int))\n",
    "    # loop over the directories\n",
    "    for year in years:\n",
    "        for month in months: \n",
    "            directory = '/Volumes/Elements/year=' + year + '/month=' + month + '/'\n",
    "            day = glob(directory + '/*')\n",
    "            for j in tqdm(range(len(day))):\n",
    "                filename = glob(day[j] + '/*')\n",
    "                for file in filename:\n",
    "                    # loading each line in a json file\n",
    "                    for line in open(file, 'r'):\n",
    "                        jsonfile = json.loads(line)\n",
    "                        # deduplicating\n",
    "                        job_id = jsonfile['id']\n",
    "                        # if 'id' seen then pass\n",
    "                        old_len = len(ids_set)\n",
    "                        ids_set.add(job_id)\n",
    "                        # avoid empty job adverts\n",
    "                        try:\n",
    "                            if old_len != len(ids_set):\n",
    "                                skills = jsonfile['skills']\n",
    "                                # dtype different before/after 04/2022\n",
    "                                skills = skills[1:-1].split(', ')           # comment out for 04/2022    \n",
    "                                # storing the co-ocurrences in the symmetric matrix\n",
    "                                for i in range(len(skills)):\n",
    "                                    for j in range(i + 1, len(skills)):\n",
    "                                        skill1, skill2 = skills[i], skills[j]\n",
    "                                        co_occurrence_counts[skill1][skill2] += 1\n",
    "                                        co_occurrence_counts[skill2][skill1] += 1\n",
    "                        except:\n",
    "                            pass\n",
    "                            \n",
    "    return co_occurrence_counts"
   ]
  },
  {
   "cell_type": "code",
   "execution_count": null,
   "id": "49a77d0c-d085-4d48-bd98-92feb45dc5ab",
   "metadata": {
    "scrolled": true
   },
   "outputs": [],
   "source": [
    "co_dict161820all = find_cooccurrence(['2016', '2018', '2020'], ['1', '2', '3', '4', '5', '6', '7', '8', '9', '10', '11', '12'])"
   ]
  },
  {
   "cell_type": "code",
   "execution_count": null,
   "id": "92ac73b5-d50a-4270-be42-989a356b2dbb",
   "metadata": {
    "scrolled": true
   },
   "outputs": [],
   "source": [
    "co_dict22_1to3 = find_cooccurrence(['2022'], ['1', '2', '3'])"
   ]
  },
  {
   "cell_type": "code",
   "execution_count": null,
   "id": "0208f83f-f94f-4e9b-a02f-d2893ced1013",
   "metadata": {},
   "outputs": [],
   "source": [
    "co_dict22_4to12 = find_cooccurrence(['2022'], ['4', '5', '6', '7', '8', '9', '10', '11', '12'])"
   ]
  },
  {
   "cell_type": "code",
   "execution_count": null,
   "id": "19e2b310-c15b-4b7a-b2a1-58e94c9b6cc0",
   "metadata": {},
   "outputs": [],
   "source": [
    "def combine_defaultdict(co_dict1, co_dict2):\n",
    "    co_dict_combined = defaultdict(lambda: defaultdict(int))\n",
    "    \n",
    "    # Update the combined dictionary with the counts from the first dictionary\n",
    "    for element1, inner_dict1 in co_dict1.items():\n",
    "        for element2, count1 in inner_dict1.items():\n",
    "            co_dict_combined[element1][element2] += count1\n",
    "    \n",
    "    # Update the combined dictionary with the counts from the second dictionary\n",
    "    for element1, inner_dict2 in co_dict2.items():\n",
    "        for element2, count2 in inner_dict2.items():\n",
    "            co_dict_combined[element1][element2] += count2\n",
    "    \n",
    "    return co_dict_combined"
   ]
  },
  {
   "cell_type": "code",
   "execution_count": null,
   "id": "c245481d-6c5a-41d8-8b47-e8f55fd97c49",
   "metadata": {},
   "outputs": [],
   "source": [
    "co_dict2022 = combine_defaultdict(co_dict22_1to3, co_dict22_4to12)\n",
    "co_dict_combined = combine_defaultdict(co_dict2022, co_dict161820all)"
   ]
  },
  {
   "cell_type": "markdown",
   "id": "f6da18c7-c1fd-492e-a69b-52d6f14b868b",
   "metadata": {},
   "source": [
    "## Convert to Pandas dataframe"
   ]
  },
  {
   "cell_type": "code",
   "execution_count": null,
   "id": "eab0433d-f595-45b4-90ac-d1d21685b74d",
   "metadata": {},
   "outputs": [],
   "source": [
    "unique_elements = set()\n",
    "for element1, inner_dict in co_dict_combined.items():\n",
    "    unique_elements.add(element1)"
   ]
  },
  {
   "cell_type": "code",
   "execution_count": null,
   "id": "c3482810-01a1-4d58-9599-f3777265581a",
   "metadata": {},
   "outputs": [],
   "source": [
    "# Convert the set of unique elements to a list\n",
    "unique_elements = list(unique_elements)\n",
    "\n",
    "# Step 2: Create an empty DataFrame with columns and indices\n",
    "df = pd.DataFrame(columns=unique_elements, index=unique_elements)\n",
    "\n",
    "# Step 3: Fill in the DataFrame with values from the defaultdict of defaultdict\n",
    "for element1, inner_dict in co_dict_combined.items():\n",
    "    for element2, count in inner_dict.items():\n",
    "        df.at[element1, element2] = count\n",
    "        df.at[element2, element1] = count"
   ]
  },
  {
   "cell_type": "code",
   "execution_count": null,
   "id": "633dea35-73e0-40ac-887b-360b7f4229d1",
   "metadata": {},
   "outputs": [],
   "source": [
    "df.fillna(0, inplace=True)"
   ]
  }
 ],
 "metadata": {
  "kernelspec": {
   "display_name": "Python 3",
   "language": "python",
   "name": "python3"
  },
  "language_info": {
   "codemirror_mode": {
    "name": "ipython",
    "version": 3
   },
   "file_extension": ".py",
   "mimetype": "text/x-python",
   "name": "python",
   "nbconvert_exporter": "python",
   "pygments_lexer": "ipython3",
   "version": "3.9.18"
  }
 },
 "nbformat": 4,
 "nbformat_minor": 5
}
