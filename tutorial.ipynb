{
 "cells": [
  {
   "cell_type": "code",
   "execution_count": null,
   "id": "31d17de4-ed22-4fb8-8867-033501a92e62",
   "metadata": {},
   "outputs": [],
   "source": [
    "import numpy as np\n",
    "import pandas as pd\n",
    "from glob import glob\n",
    "from tqdm import tqdm\n",
    "import json\n",
    "import pickle\n",
    "from collections import defaultdict\n",
    "import dill"
   ]
  },
  {
   "cell_type": "code",
   "execution_count": null,
   "id": "4081de54-ae4d-467b-a665-f2ec07947369",
   "metadata": {},
   "outputs": [],
   "source": [
    "def find_salary(years, months):\n",
    "    n_ads = 0\n",
    "    ids_set = set()\n",
    "    skill_dict = defaultdict(lambda: defaultdict(int))\n",
    "    for year in years:\n",
    "        for month in months: \n",
    "            directory = '/Volumes/Elements/year=' + year + '/month=' + month + '/'\n",
    "            day = glob(directory + '/*')\n",
    "            for j in tqdm(range(len(day))):\n",
    "                filename = glob(day[j] + '/*')\n",
    "                for file in filename:\n",
    "                    for line in open(file, 'r'):\n",
    "                        jsonfile = json.loads(line)\n",
    "                        # deduplicating\n",
    "                        try:\n",
    "                            if jsonfile['salary_currency'] == 'GBP':\n",
    "                                salary = jsonfile['salary_predicted']   \n",
    "                                skills = jsonfile['skills']\n",
    "                                job_id = jsonfile['id']\n",
    "                                # if 'id' seen then pass\n",
    "                                old_len = len(ids_set)\n",
    "                                ids_set.add(job_id)\n",
    "                                if old_len != len(ids_set):                                \n",
    "                                    # skills = skills[1:-1].split(', ')           # comment out for 04/2022    \n",
    "                                    for skill in skills:\n",
    "                                        skill_dict[skill]['salary'] += salary\n",
    "                                        skill_dict[skill]['freq'] += 1\n",
    "                        except:\n",
    "                            pass\n",
    "    return skill_dict"
   ]
  },
  {
   "cell_type": "code",
   "execution_count": null,
   "id": "9cfa84ad-9d73-4012-bc32-7c146e3f1c64",
   "metadata": {
    "scrolled": true
   },
   "outputs": [],
   "source": [
    "sal_16 = find_salary(['2016'], ['1', '2', '3', '4', '5', '6', '7', '8', '9', '10', '11', '12'])\n",
    "sal_18 = find_salary(['2018'], ['1', '2', '3', '4', '5', '6', '7', '8', '9', '10', '11', '12'])\n",
    "sal_20 = find_salary(['2020'], ['1', '2', '3', '4', '5', '6', '7', '8', '9', '10', '11', '12'])"
   ]
  },
  {
   "cell_type": "code",
   "execution_count": null,
   "id": "4fa2ee03-b78d-4401-9a1b-9a9a42d3676a",
   "metadata": {
    "scrolled": true
   },
   "outputs": [],
   "source": [
    "sal_221to3 = find_salary(['2022'], ['1', '2', '3'])"
   ]
  },
  {
   "cell_type": "code",
   "execution_count": null,
   "id": "ec9ff618-0a53-473d-a2a8-65469ae222cf",
   "metadata": {},
   "outputs": [],
   "source": [
    "sal_224to12 = find_salary(['2022'], ['4', '5', '6', '7', '8', '9', '10', '11', '12'])"
   ]
  },
  {
   "cell_type": "code",
   "execution_count": null,
   "id": "4990832f-2342-44b2-b321-3ed235c85d0d",
   "metadata": {},
   "outputs": [],
   "source": [
    "dicts_list = [sal_221to3, sal_224to12]\n",
    "sal_22 = defaultdict(lambda: defaultdict(int))\n",
    "\n",
    "for d in dicts_list:\n",
    "    for skill, info in d.items():\n",
    "        sal_22[skill]['salary'] += info['salary']\n",
    "        sal_22[skill]['freq'] += info['freq']"
   ]
  },
  {
   "cell_type": "code",
   "execution_count": null,
   "id": "8e471f01-b40c-4087-b4d6-c81c9c114220",
   "metadata": {},
   "outputs": [],
   "source": [
    "with open('Adzuna/salary_16.pkl', 'wb') as f:\n",
    "   dill.dump(sal_16, f)\n",
    "with open('Adzuna/salary_18.pkl', 'wb') as f:\n",
    "   dill.dump(sal_18, f)\n",
    "with open('Adzuna/salary_20.pkl', 'wb') as f:\n",
    "   dill.dump(sal_20, f)\n",
    "with open('Adzuna/salary_22.pkl', 'wb') as f:\n",
    "   dill.dump(sal_22, f)"
   ]
  },
  {
   "cell_type": "code",
   "execution_count": null,
   "id": "7ed83ca0-8f8f-4827-86b7-e90ccb7d585c",
   "metadata": {},
   "outputs": [],
   "source": []
  },
  {
   "cell_type": "code",
   "execution_count": null,
   "id": "74592aea-1b1b-4c0d-9533-286e13a78b86",
   "metadata": {},
   "outputs": [],
   "source": [
    "def find_n_ads(years, months):\n",
    "    n_ads = 0\n",
    "    ids_set = set()\n",
    "    for year in years:\n",
    "        for month in tqdm(months): \n",
    "            directory = '/Volumes/Elements/year=' + year + '/month=' + month + '/'\n",
    "            day = glob(directory + '/*')\n",
    "            for j in range(len(day)):\n",
    "                filename = glob(day[j] + '/*')\n",
    "                for file in filename:\n",
    "                    for line in open(file, 'r'):\n",
    "                        jsonfile = json.loads(line)\n",
    "                        # deduplicating\n",
    "                        job_id = jsonfile['id']\n",
    "                        # if 'id' seen then pass\n",
    "                        old_len = len(ids_set)\n",
    "                        ids_set.add(job_id)\n",
    "                        if old_len != len(ids_set):\n",
    "                            n_ads += 1\n",
    "                            \n",
    "    return n_ads"
   ]
  },
  {
   "cell_type": "code",
   "execution_count": null,
   "id": "431e66ed-7701-48f5-b288-bf2b9d76f227",
   "metadata": {},
   "outputs": [],
   "source": [
    "find_n_ads(['2018'], ['1', '2', '3', '4', '5', '6', '7', '8', '9', '10', '11', '12'])"
   ]
  },
  {
   "cell_type": "code",
   "execution_count": null,
   "id": "c69a6312-3a69-4337-8347-631a1a0f2503",
   "metadata": {},
   "outputs": [],
   "source": [
    "find_n_ads(['2020'], ['1', '2', '3', '4', '5', '6', '7', '8', '9', '10', '11', '12'])"
   ]
  },
  {
   "cell_type": "code",
   "execution_count": null,
   "id": "eb65bbd0-0cd9-4918-ba20-887b4bc90e67",
   "metadata": {},
   "outputs": [],
   "source": [
    "find_n_ads(['2016'], ['1', '2', '3', '4', '5', '6', '7', '8', '9', '10', '11', '12'])"
   ]
  },
  {
   "cell_type": "code",
   "execution_count": null,
   "id": "b77e8e51-959f-4a7e-8cfb-eaac221896b9",
   "metadata": {},
   "outputs": [],
   "source": [
    "find_n_ads(['2022'], ['1', '2', '3', '4', '5', '6', '7', '8', '9', '10', '11', '12'])"
   ]
  },
  {
   "cell_type": "code",
   "execution_count": null,
   "id": "8a0f2d14-e5b9-4fc7-a1e4-135952b2bd54",
   "metadata": {},
   "outputs": [],
   "source": [
    "def find_freq(years, months):\n",
    "    ids_set = set()\n",
    "    skill_freq = defaultdict(int)\n",
    "    for year in years:\n",
    "        for month in months: \n",
    "            directory = '/Volumes/Elements/year=' + year + '/month=' + month + '/'\n",
    "            day = glob(directory + '/*')\n",
    "            for j in tqdm(range(len(day))):\n",
    "                filename = glob(day[j] + '/*')\n",
    "                for file in filename:\n",
    "                    for line in open(file, 'r'):\n",
    "                        jsonfile = json.loads(line)\n",
    "                        # deduplicating\n",
    "                        job_id = jsonfile['id']\n",
    "                        # if 'id' seen then pass\n",
    "                        old_len = len(ids_set)\n",
    "                        ids_set.add(job_id)\n",
    "                        try:\n",
    "                            if old_len != len(ids_set):\n",
    "                                skills = jsonfile['skills']\n",
    "                                skills = skills[1:-1].split(', ')           # comment out for 04/2022    \n",
    "                                for skill in skills:\n",
    "                                    skill_freq[skill] += 1\n",
    "                        except:\n",
    "                            pass\n",
    "                            \n",
    "    return skill_freq"
   ]
  },
  {
   "cell_type": "code",
   "execution_count": null,
   "id": "9b2b0257-732c-4e40-ba97-82114461116a",
   "metadata": {},
   "outputs": [],
   "source": [
    "freq_20224to12 = find_freq2022(['2022'], ['4', '5', '6', '7', '8', '9', '10', '11', '12'])"
   ]
  },
  {
   "cell_type": "code",
   "execution_count": null,
   "id": "cfba9e00-c314-45af-a6ed-65c9a4bc8e48",
   "metadata": {},
   "outputs": [],
   "source": [
    "freq_20221to3 = find_freq(['2022'], ['1', '2', '3'])"
   ]
  },
  {
   "cell_type": "code",
   "execution_count": null,
   "id": "d489bb95-f553-4f2d-bbfe-e9e2b31ff575",
   "metadata": {},
   "outputs": [],
   "source": [
    "freq_16 = find_freq(['2016'], ['1', '2', '3', '4', '5', '6', '7', '8', '9', '10', '11', '12'])"
   ]
  },
  {
   "cell_type": "code",
   "execution_count": null,
   "id": "8b95d0b0-d111-4f88-80b5-9225bb9e5fdc",
   "metadata": {},
   "outputs": [],
   "source": [
    "# List of dictionaries\n",
    "dicts_list = [freq_20221to3, freq_20224to12]\n",
    "freq_22 = defaultdict(int)\n",
    "\n",
    "for d in dicts_list:\n",
    "    for skill, freq in d.items():\n",
    "        freq_22[skill] += freq"
   ]
  },
  {
   "cell_type": "markdown",
   "id": "d51b51c7-6e53-4fe7-bc50-dbb067dda7c1",
   "metadata": {},
   "source": [
    "## Delete the skills that are not in the xlsx by dict operations"
   ]
  },
  {
   "cell_type": "code",
   "execution_count": null,
   "id": "4f33b89d-2065-438f-a962-d0097b42b807",
   "metadata": {},
   "outputs": [],
   "source": [
    "skills_in_mat = list(freq_16.keys())"
   ]
  },
  {
   "cell_type": "code",
   "execution_count": null,
   "id": "0e2c5d9c-24ea-4531-a041-4750c0939772",
   "metadata": {},
   "outputs": [],
   "source": [
    "match_df = pd.read_excel('Adzuna/Adzuna_Lightcast_skills_dictionary_20231018.xlsx', sheet_name = 'Adzuna_Lightcast_skills_diction')\n",
    "skills_in_xlsx = list(match_df[match_df['Corrected -> unique skill'] != '[drop]']['Adzuna_skills'])"
   ]
  },
  {
   "cell_type": "code",
   "execution_count": null,
   "id": "f61dfe53-b508-4a67-88d5-4ca50bd84030",
   "metadata": {},
   "outputs": [],
   "source": [
    "skills_todrop = [skill for skill in skills_in_mat if skill not in skills_in_xlsx]"
   ]
  },
  {
   "cell_type": "code",
   "execution_count": null,
   "id": "fb47c702-5e3d-4688-8899-87f79bd9a0c5",
   "metadata": {},
   "outputs": [],
   "source": [
    "# Delete the specified keys from the defaultdict of defaultdict\n",
    "for skill in skills_todrop:\n",
    "    if skill in freq_16:\n",
    "        del freq_16[skill]"
   ]
  },
  {
   "cell_type": "code",
   "execution_count": null,
   "id": "a0e655e2-0a9b-4614-95d9-eb9a6f24eafe",
   "metadata": {},
   "outputs": [],
   "source": [
    "len(freq_16.keys())"
   ]
  },
  {
   "cell_type": "markdown",
   "id": "d6d7423f-74b6-4931-9707-e0742a212b59",
   "metadata": {},
   "source": [
    "## Convert to Lightcast Taxonomy"
   ]
  },
  {
   "cell_type": "code",
   "execution_count": null,
   "id": "36c261cc-5cbd-422f-ab0b-3fcb01326f2b",
   "metadata": {},
   "outputs": [],
   "source": [
    "# Extract the two columns as lists\n",
    "column1_values = match_df[match_df['Corrected -> unique skill'] != '[drop]']['Adzuna_skills'].tolist()\n",
    "column2_values = match_df[match_df['Corrected -> unique skill'] != '[drop]']['Lightcast_skills'].tolist()\n",
    "\n",
    "# Create a dictionary where column1 is the key and column2 is the value\n",
    "semantic_equivalents = dict(zip(column1_values, column2_values))"
   ]
  },
  {
   "cell_type": "code",
   "execution_count": null,
   "id": "326da64d-aa58-4d81-a7ef-018fc25230f3",
   "metadata": {},
   "outputs": [],
   "source": [
    "# Create a new defaultdict of defaultdict based on semantic equivalents while ensuring symmetry\n",
    "freq_16lightcast = defaultdict(int)\n",
    "\n",
    "for element1, freq in freq_16.items():\n",
    "    element1 = semantic_equivalents.get(element1, element1)\n",
    "    freq_16lightcast[element1] += freq"
   ]
  },
  {
   "cell_type": "code",
   "execution_count": null,
   "id": "a68479d2-3cd9-4308-b77b-131992c9de92",
   "metadata": {},
   "outputs": [],
   "source": [
    "len(freq_16lightcast)"
   ]
  },
  {
   "cell_type": "code",
   "execution_count": null,
   "id": "3bacb323-532e-42a0-87fa-f8c858fa0bef",
   "metadata": {},
   "outputs": [],
   "source": [
    "with open('Adzuna/freq_lightcastskills_16.pkl', 'wb') as f:\n",
    "   pickle.dump(freq_16lightcast, f)"
   ]
  },
  {
   "cell_type": "code",
   "execution_count": null,
   "id": "4c4abe61-d677-4741-9234-7222a986cb7f",
   "metadata": {},
   "outputs": [],
   "source": [
    "freq_lightcast['Change Control']"
   ]
  },
  {
   "cell_type": "code",
   "execution_count": null,
   "id": "83cdf561-7f38-4487-a616-c946f8edf248",
   "metadata": {},
   "outputs": [],
   "source": []
  },
  {
   "cell_type": "markdown",
   "id": "4cdb4fab-8747-4760-b400-bd03f50ac442",
   "metadata": {},
   "source": [
    "# Get co-occurrences from raw Adzuna data"
   ]
  },
  {
   "cell_type": "code",
   "execution_count": null,
   "id": "d58f90ee-2968-4981-b179-52c421a0c2c9",
   "metadata": {},
   "outputs": [],
   "source": [
    "def find_cooccurrence(years, months):\n",
    "    # create an set for unique ids\n",
    "    ids_set = set()\n",
    "    # initiate co-occurrrence matrix\n",
    "    co_occurrence_counts = defaultdict(lambda: defaultdict(int))\n",
    "    # loop over the directories\n",
    "    for year in years:\n",
    "        for month in months: \n",
    "            directory = '/Volumes/Elements/year=' + year + '/month=' + month + '/'\n",
    "            day = glob(directory + '/*')\n",
    "            for j in tqdm(range(len(day))):\n",
    "                filename = glob(day[j] + '/*')\n",
    "                for file in filename:\n",
    "                    # loading each line in a json file\n",
    "                    for line in open(file, 'r'):\n",
    "                        jsonfile = json.loads(line)\n",
    "                        # deduplicating\n",
    "                        job_id = jsonfile['id']\n",
    "                        # if 'id' seen then pass\n",
    "                        old_len = len(ids_set)\n",
    "                        ids_set.add(job_id)\n",
    "                        # avoid empty job adverts\n",
    "                        try:\n",
    "                            if old_len != len(ids_set):\n",
    "                                skills = jsonfile['skills']\n",
    "                                # dtype different before/after 04/2022\n",
    "                                skills = skills[1:-1].split(', ')           # comment out for 04/2022    \n",
    "                                # storing the co-ocurrences in the symmetric matrix\n",
    "                                for i in range(len(skills)):\n",
    "                                    for j in range(i + 1, len(skills)):\n",
    "                                        skill1, skill2 = skills[i], skills[j]\n",
    "                                        co_occurrence_counts[skill1][skill2] += 1\n",
    "                                        co_occurrence_counts[skill2][skill1] += 1\n",
    "                        except:\n",
    "                            pass\n",
    "                            \n",
    "    return co_occurrence_counts"
   ]
  },
  {
   "cell_type": "code",
   "execution_count": null,
   "id": "49a77d0c-d085-4d48-bd98-92feb45dc5ab",
   "metadata": {
    "scrolled": true
   },
   "outputs": [],
   "source": [
    "co_dict = find_cooccurrence(['2016', '2018', '2020'], ['1', '2', '3', '4', '5', '6', '7', '8', '9', '10', '11', '12'])"
   ]
  },
  {
   "cell_type": "code",
   "execution_count": null,
   "id": "92ac73b5-d50a-4270-be42-989a356b2dbb",
   "metadata": {
    "scrolled": true
   },
   "outputs": [],
   "source": [
    "co_dict2022_1to3 = find_cooccurrence(['2022'], ['1', '2', '3'])"
   ]
  },
  {
   "cell_type": "code",
   "execution_count": null,
   "id": "0208f83f-f94f-4e9b-a02f-d2893ced1013",
   "metadata": {},
   "outputs": [],
   "source": [
    "co_dict22_4to12 = find_cooccurrence(['2022'], ['4', '5', '6', '7', '8', '9', '10', '11', '12'])"
   ]
  },
  {
   "cell_type": "code",
   "execution_count": null,
   "id": "19e2b310-c15b-4b7a-b2a1-58e94c9b6cc0",
   "metadata": {},
   "outputs": [],
   "source": [
    "def combine_defaultdict(co_dict1, co_dict2):\n",
    "    co_dict_combined = defaultdict(lambda: defaultdict(int))\n",
    "    \n",
    "    # Update the combined dictionary with the counts from the first dictionary\n",
    "    for element1, inner_dict1 in co_dict1.items():\n",
    "        for element2, count1 in inner_dict1.items():\n",
    "            co_dict_combined[element1][element2] += count1\n",
    "    \n",
    "    # Update the combined dictionary with the counts from the second dictionary\n",
    "    for element1, inner_dict2 in co_dict2.items():\n",
    "        for element2, count2 in inner_dict2.items():\n",
    "            co_dict_combined[element1][element2] += count2\n",
    "    \n",
    "    return co_dict_combined"
   ]
  },
  {
   "cell_type": "code",
   "execution_count": null,
   "id": "c245481d-6c5a-41d8-8b47-e8f55fd97c49",
   "metadata": {},
   "outputs": [],
   "source": [
    "co_dict2022 = combine_defaultdict(co_dict22_1to3, co_dict22_4to12)\n",
    "co_dict_combined = combine_defaultdict(co_dict2022, co_dict161820all)"
   ]
  },
  {
   "cell_type": "code",
   "execution_count": null,
   "id": "5cc3a96e-2c19-4fef-a32c-1300f7edfbd7",
   "metadata": {},
   "outputs": [],
   "source": [
    "match_df = pd.read_excel('Adzuna/Adzuna_Lightcast_skills_dictionary_20231018.xlsx', sheet_name = 'Adzuna_Lightcast_skills_diction')\n",
    "skills_in_xlsx = list(match_df[match_df['Corrected -> unique skill'] != '[drop]']['Adzuna_skills'])"
   ]
  },
  {
   "cell_type": "code",
   "execution_count": null,
   "id": "bcf16848-cd3d-4ecb-ad9e-f58a9426377b",
   "metadata": {},
   "outputs": [],
   "source": [
    "skills_todrop = [skill for skill in skills_in_mat if skill not in skills_in_xlsx]"
   ]
  },
  {
   "cell_type": "code",
   "execution_count": null,
   "id": "b35c2b20-f71a-4430-bf34-eaddadac9663",
   "metadata": {},
   "outputs": [],
   "source": [
    "# Delete the specified keys from the defaultdict of defaultdict\n",
    "for skill in skills_todrop:\n",
    "    if skill in co_dict_combined:\n",
    "        del co_dict_combined[skill]\n",
    "    for inner_dict in co_dict_combined.values():\n",
    "        if skill in inner_dict:\n",
    "            del inner_dict[skill]"
   ]
  },
  {
   "cell_type": "code",
   "execution_count": null,
   "id": "d0b21682-6835-41f9-b70c-f9dc8b148ef9",
   "metadata": {},
   "outputs": [],
   "source": [
    "len(co_dict_combined.keys())"
   ]
  },
  {
   "cell_type": "code",
   "execution_count": null,
   "id": "65729679-f076-48a6-ae43-04ef3f45f34e",
   "metadata": {},
   "outputs": [],
   "source": [
    "# Extract the two columns as lists\n",
    "column1_values = match_df[match_df['Corrected -> unique skill'] != '[drop]']['Adzuna_skills'].tolist()\n",
    "column2_values = match_df[match_df['Corrected -> unique skill'] != '[drop]']['Lightcast_skills'].tolist()\n",
    "\n",
    "# Create a dictionary where column1 is the key and column2 is the value\n",
    "semantic_equivalents = dict(zip(column1_values, column2_values))"
   ]
  },
  {
   "cell_type": "code",
   "execution_count": null,
   "id": "b404afec-4622-447a-9961-d798a86fe02e",
   "metadata": {},
   "outputs": [],
   "source": [
    "# Create a new defaultdict of defaultdict based on semantic equivalents while ensuring symmetry\n",
    "co_dict_lightcast = defaultdict(lambda: defaultdict(int))\n",
    "\n",
    "for element1, inner_dict in co_dict_combined.items():\n",
    "    for element2, count in inner_dict.items():\n",
    "        # Replace element1 and element2 with their semantic equivalents if they exist\n",
    "        element1 = semantic_equivalents.get(element1, element1)\n",
    "        element2 = semantic_equivalents.get(element2, element2)\n",
    "        \n",
    "        # Ensure symmetry in the counts\n",
    "        co_dict_lightcast[element1][element2] += count\n",
    "        co_dict_lightcast[element2][element1] += count"
   ]
  },
  {
   "cell_type": "code",
   "execution_count": null,
   "id": "9f94243a-1f44-4386-8521-289f3a55e2a4",
   "metadata": {},
   "outputs": [],
   "source": [
    "len(co_dict_lightcast)"
   ]
  },
  {
   "cell_type": "markdown",
   "id": "f6da18c7-c1fd-492e-a69b-52d6f14b868b",
   "metadata": {},
   "source": [
    "## Convert to Pandas dataframe"
   ]
  },
  {
   "cell_type": "code",
   "execution_count": null,
   "id": "eab0433d-f595-45b4-90ac-d1d21685b74d",
   "metadata": {},
   "outputs": [],
   "source": [
    "unique_elements = set()\n",
    "for element1, inner_dict in co_dict_combined.items():\n",
    "    unique_elements.add(element1)"
   ]
  },
  {
   "cell_type": "code",
   "execution_count": null,
   "id": "c3482810-01a1-4d58-9599-f3777265581a",
   "metadata": {},
   "outputs": [],
   "source": [
    "# Convert the set of unique elements to a list\n",
    "unique_elements = list(unique_elements)\n",
    "\n",
    "# Step 2: Create an empty DataFrame with columns and indices\n",
    "df = pd.DataFrame(columns=unique_elements, index=unique_elements)\n",
    "\n",
    "# Step 3: Fill in the DataFrame with values from the defaultdict of defaultdict\n",
    "for element1, inner_dict in co_dict_combined.items():\n",
    "    for element2, count in inner_dict.items():\n",
    "        df.at[element1, element2] = count\n",
    "        df.at[element2, element1] = count"
   ]
  },
  {
   "cell_type": "code",
   "execution_count": null,
   "id": "633dea35-73e0-40ac-887b-360b7f4229d1",
   "metadata": {},
   "outputs": [],
   "source": [
    "df.fillna(0, inplace=True)"
   ]
  }
 ],
 "metadata": {
  "kernelspec": {
   "display_name": "Python 3",
   "language": "python",
   "name": "python3"
  },
  "language_info": {
   "codemirror_mode": {
    "name": "ipython",
    "version": 3
   },
   "file_extension": ".py",
   "mimetype": "text/x-python",
   "name": "python",
   "nbconvert_exporter": "python",
   "pygments_lexer": "ipython3",
   "version": "3.9.18"
  }
 },
 "nbformat": 4,
 "nbformat_minor": 5
}
